{
  "nbformat": 4,
  "nbformat_minor": 0,
  "metadata": {
    "colab": {
      "provenance": [],
      "authorship_tag": "ABX9TyPCpmKe7QxGnSVV7d5bykFS",
      "include_colab_link": true
    },
    "kernelspec": {
      "name": "python3",
      "display_name": "Python 3"
    },
    "language_info": {
      "name": "python"
    }
  },
  "cells": [
    {
      "cell_type": "markdown",
      "metadata": {
        "id": "view-in-github",
        "colab_type": "text"
      },
      "source": [
        "<a href=\"https://colab.research.google.com/github/andressachaves/Aplicativo-VEASPAM/blob/main/script_svm.ipynb\" target=\"_parent\"><img src=\"https://colab.research.google.com/assets/colab-badge.svg\" alt=\"Open In Colab\"/></a>"
      ]
    },
    {
      "cell_type": "code",
      "execution_count": 1,
      "metadata": {
        "id": "yShjJlfmVqz2"
      },
      "outputs": [],
      "source": [
        "# Se estiver no Colab, rode isto:\n",
        "!pip -q install scikit-learn pandas numpy matplotlib pyarrow joblib\n"
      ]
    },
    {
      "cell_type": "code",
      "source": [
        "# ========================\n",
        "# ETAPA 3 — TF-IDF + LinearSVC (rápido)\n",
        "# ========================\n",
        "\n",
        "# 0) Dependências (execute no Colab)\n",
        "!pip -q install scikit-learn pandas numpy matplotlib pyarrow joblib\n",
        "\n",
        "# 1) Imports e setup\n",
        "import os, glob\n",
        "from pathlib import Path\n",
        "import pandas as pd\n",
        "import numpy as np\n",
        "from sklearn.model_selection import train_test_split\n",
        "from sklearn.feature_extraction.text import TfidfVectorizer\n",
        "from sklearn.svm import LinearSVC\n",
        "from sklearn.pipeline import Pipeline\n",
        "from sklearn.metrics import accuracy_score, f1_score, classification_report, confusion_matrix\n",
        "import matplotlib.pyplot as plt\n",
        "import joblib\n",
        "\n",
        "# 2) Monta Drive (se estiver no Colab)\n",
        "IN_COLAB = False\n",
        "try:\n",
        "    import google.colab  # type: ignore\n",
        "    IN_COLAB = True\n",
        "except Exception:\n",
        "    pass\n",
        "\n",
        "if IN_COLAB:\n",
        "    from google.colab import drive\n",
        "    drive.mount('/content/drive', force_remount=False)\n",
        "\n",
        "# 3) Localiza a pasta /MyDrive/Eixo_05/dados\n",
        "BASE = Path(\"/content/drive/MyDrive/Eixo_05\") if IN_COLAB else Path.cwd()\n",
        "DATA_DIR = BASE / \"dados\"\n",
        "assert DATA_DIR.exists(), f\"Não encontrei {DATA_DIR}. Verifique se o Drive está correto.\"\n",
        "\n",
        "# 4) Estratégia de carga:\n",
        "#    4a) Se existir dataset.csv na pasta dados -> usa (contém review/label)\n",
        "#    4b) Caso contrário, carrega TFIDFfeaturizedData/*.parquet e extrai 'review' e 'label'\n",
        "csv_path = DATA_DIR / \"dataset.csv\"\n",
        "parquet_dir_tfidf = DATA_DIR / \"TFIDFfeaturizedData\"\n",
        "\n",
        "if csv_path.exists():\n",
        "    df = pd.read_csv(csv_path)\n",
        "else:\n",
        "    files = glob.glob(str(parquet_dir_tfidf / \"*.parquet\"))\n",
        "    assert files, (\n",
        "        \"Não encontrei dataset.csv nem .parquet em TFIDFfeaturizedData.\\n\"\n",
        "        \"Execute a Etapa 2 ou ajuste os caminhos.\"\n",
        "    )\n",
        "    df = pd.concat([pd.read_parquet(f) for f in files], ignore_index=True)\n",
        "\n",
        "# 5) Padroniza nomes e garante colunas necessárias\n",
        "df.columns = [c.strip().lower().replace(\" \", \"_\") for c in df.columns]\n",
        "COL_TEXT_CAND = [\"review\", \"texto\", \"resenha\", \"text\", \"content\", \"descricao\", \"description\"]\n",
        "COL_LABEL_CAND = [\"label\", \"classe\", \"sentiment\", \"target\"]\n",
        "\n",
        "TEXT_COL  = next((c for c in COL_TEXT_CAND  if c in df.columns), None)\n",
        "LABEL_COL = next((c for c in COL_LABEL_CAND if c in df.columns), None)\n",
        "assert TEXT_COL is not None and LABEL_COL is not None, f\"Defina manualmente TEXT_COL/LABEL_COL. Colunas: {df.columns.tolist()}\"\n",
        "\n",
        "# Limpeza mínima\n",
        "df = df.dropna(subset=[TEXT_COL, LABEL_COL]).copy()\n",
        "df[TEXT_COL] = df[TEXT_COL].astype(str).str.strip()\n",
        "# se o label vier string (ex. 'positive'/'negative'), tenta mapear\n",
        "if df[LABEL_COL].dtype == 'object':\n",
        "    # mapeia automaticamente para 0/1 se houver dois rótulos\n",
        "    classes = {k:i for i,k in enumerate(sorted(df[LABEL_COL].unique()))}\n",
        "    df[LABEL_COL] = df[LABEL_COL].map(classes)\n",
        "\n",
        "X = df[TEXT_COL].astype(str).values\n",
        "y = df[LABEL_COL].astype(int).values\n",
        "\n",
        "# (Opcional) amostra rápida para testes iniciais\n",
        "# df_sample = df.sample(10000, random_state=42)  # descomente se quiser acelerar\n",
        "# X = df_sample[TEXT_COL].astype(str).values\n",
        "# y = df_sample[LABEL_COL].astype(int).values\n",
        "\n",
        "# 6) Split\n",
        "X_train, X_test, y_train, y_test = train_test_split(\n",
        "    X, y, test_size=0.2, random_state=42, stratify=y\n",
        ")\n",
        "\n",
        "# 7) Pipeline TF-IDF + LinearSVC (rápido)\n",
        "pipeline = Pipeline([\n",
        "    (\"tfidf\", TfidfVectorizer(\n",
        "        strip_accents=\"unicode\",\n",
        "        lowercase=True,\n",
        "        ngram_range=(1,2),   # uni + bi-gramas costumam ajudar\n",
        "        min_df=2\n",
        "    )),\n",
        "    (\"clf\", LinearSVC(\n",
        "        C=1.0,\n",
        "        class_weight=\"balanced\",\n",
        "        random_state=42\n",
        "    ))\n",
        "])\n",
        "\n",
        "# 8) Treinamento\n",
        "pipeline.fit(X_train, y_train)\n",
        "\n",
        "# 9) Avaliação\n",
        "y_pred = pipeline.predict(X_test)\n",
        "acc = accuracy_score(y_test, y_pred)\n",
        "f1  = f1_score(y_test, y_pred, average=\"macro\")\n",
        "\n",
        "print(f\"✅ Acurácia:  {acc:.4f}\")\n",
        "print(f\"✅ F1-macro:  {f1:.4f}\\n\")\n",
        "print(\"=== Classification Report ===\")\n",
        "print(classification_report(y_test, y_pred, digits=4))\n",
        "\n",
        "# 10) Matriz de confusão\n",
        "cm = confusion_matrix(y_test, y_pred)\n",
        "fig = plt.figure(figsize=(5,4))\n",
        "plt.imshow(cm, interpolation=\"nearest\")\n",
        "plt.title(\"Matriz de Confusão — LinearSVC + TF-IDF\")\n",
        "plt.colorbar()\n",
        "tick_marks = np.arange(len(np.unique(y)))\n",
        "plt.xticks(tick_marks, tick_marks)\n",
        "plt.yticks(tick_marks, tick_marks)\n",
        "plt.xlabel(\"Predito\")\n",
        "plt.ylabel(\"Real\")\n",
        "for (i, j), z in np.ndenumerate(cm):\n",
        "    plt.text(j, i, str(z), ha='center', va='center')\n",
        "plt.tight_layout()\n",
        "plt.show()\n",
        "\n",
        "# 11) Salvar pipeline no Drive\n",
        "models_dir = BASE / \"modelos\"\n",
        "models_dir.mkdir(parents=True, exist_ok=True)\n",
        "model_path = models_dir / \"linear_svc_tfidf_pipeline.joblib\"\n",
        "joblib.dump(pipeline, model_path)\n",
        "print(f\"📁 Pipeline salvo em: {model_path}\")\n"
      ],
      "metadata": {
        "colab": {
          "base_uri": "https://localhost:8080/",
          "height": 667
        },
        "id": "bCyNhDyvh8v2",
        "outputId": "751205e7-e817-48d3-a505-5685d8c747a3"
      },
      "execution_count": 1,
      "outputs": [
        {
          "output_type": "stream",
          "name": "stdout",
          "text": [
            "Drive already mounted at /content/drive; to attempt to forcibly remount, call drive.mount(\"/content/drive\", force_remount=True).\n",
            "✅ Acurácia:  0.9233\n",
            "✅ F1-macro:  0.9233\n",
            "\n",
            "=== Classification Report ===\n",
            "              precision    recall  f1-score   support\n",
            "\n",
            "           0     0.9317    0.9136    0.9225      5000\n",
            "           1     0.9152    0.9330    0.9240      5000\n",
            "\n",
            "    accuracy                         0.9233     10000\n",
            "   macro avg     0.9235    0.9233    0.9233     10000\n",
            "weighted avg     0.9235    0.9233    0.9233     10000\n",
            "\n"
          ]
        },
        {
          "output_type": "display_data",
          "data": {
            "text/plain": [
              "<Figure size 500x400 with 2 Axes>"
            ],
            "image/png": "[encoded data removed]"
          },
          "metadata": {}
        },
        {
          "output_type": "stream",
          "name": "stdout",
          "text": [
            "📁 Pipeline salvo em: /content/drive/MyDrive/Eixo_05/modelos/linear_svc_tfidf_pipeline.joblib\n"
          ]
        }
      ]
    },
    {
      "cell_type": "code",
      "source": [],
      "metadata": {
        "id": "ny3HTS8Qh88h"
      },
      "execution_count": null,
      "outputs": []
    }
  ]
}